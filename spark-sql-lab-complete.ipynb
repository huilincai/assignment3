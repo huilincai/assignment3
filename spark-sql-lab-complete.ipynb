{
 "cells": [
  {
   "cell_type": "markdown",
   "metadata": {},
   "source": [
    "# Social characteristics of the Marvel Universe"
   ]
  },
  {
   "cell_type": "code",
   "execution_count": 1,
   "metadata": {},
   "outputs": [
    {
     "data": {
      "text/html": [
       "\n",
       "        <div>\n",
       "            <p><b>SparkContext</b></p>\n",
       "\n",
       "            <p><a href=\"http://ip-172-31-21-192.ec2.internal:4041\">Spark UI</a></p>\n",
       "\n",
       "            <dl>\n",
       "              <dt>Version</dt>\n",
       "                <dd><code>v2.2.1</code></dd>\n",
       "              <dt>Master</dt>\n",
       "                <dd><code>yarn</code></dd>\n",
       "              <dt>AppName</dt>\n",
       "                <dd><code>PySparkShell</code></dd>\n",
       "            </dl>\n",
       "        </div>\n",
       "        "
      ],
      "text/plain": [
       "<SparkContext master=yarn appName=PySparkShell>"
      ]
     },
     "execution_count": 1,
     "metadata": {},
     "output_type": "execute_result"
    }
   ],
   "source": [
    "sc"
   ]
  },
  {
   "cell_type": "code",
   "execution_count": 2,
   "metadata": {},
   "outputs": [
    {
     "data": {
      "text/html": [
       "\n",
       "            <div>\n",
       "                <p><b>SparkSession - hive</b></p>\n",
       "                \n",
       "        <div>\n",
       "            <p><b>SparkContext</b></p>\n",
       "\n",
       "            <p><a href=\"http://ip-172-31-21-192.ec2.internal:4041\">Spark UI</a></p>\n",
       "\n",
       "            <dl>\n",
       "              <dt>Version</dt>\n",
       "                <dd><code>v2.2.1</code></dd>\n",
       "              <dt>Master</dt>\n",
       "                <dd><code>yarn</code></dd>\n",
       "              <dt>AppName</dt>\n",
       "                <dd><code>PySparkShell</code></dd>\n",
       "            </dl>\n",
       "        </div>\n",
       "        \n",
       "            </div>\n",
       "        "
      ],
      "text/plain": [
       "<pyspark.sql.session.SparkSession at 0x7f18714429d0>"
      ]
     },
     "execution_count": 2,
     "metadata": {},
     "output_type": "execute_result"
    }
   ],
   "source": [
    "spark"
   ]
  },
  {
   "cell_type": "markdown",
   "metadata": {},
   "source": [
    "## Read in the data.\n",
    "\n",
    "Run the right cell depending on the platform being used.\n",
    "\n",
    "For AWS EMR use:"
   ]
  },
  {
   "cell_type": "code",
   "execution_count": 3,
   "metadata": {},
   "outputs": [],
   "source": [
    "file = sc.textFile(\"s3://bigdatateaching/marvel/porgat.txt\")"
   ]
  },
  {
   "cell_type": "markdown",
   "metadata": {},
   "source": [
    "For Databricks on Azure use:"
   ]
  },
  {
   "cell_type": "code",
   "execution_count": null,
   "metadata": {},
   "outputs": [],
   "source": [
    "file = sc.textFile(\"wasbs://marvel@bigdatateaching.blob.core.windows.net/porgat.txt\")"
   ]
  },
  {
   "cell_type": "markdown",
   "metadata": {},
   "source": [
    "## Clean The Data\n",
    "\n",
    "The data file is in three parts, with the single file:\n",
    "\n",
    "* Marvel Characters\n",
    "* Publications\n",
    "* Relationships between the two\n",
    "\n",
    "We need to pre-process the file before we can use it. The following operations are all RDD operations."
   ]
  },
  {
   "cell_type": "markdown",
   "metadata": {},
   "source": [
    "Let's look at the file."
   ]
  },
  {
   "cell_type": "markdown",
   "metadata": {},
   "source": [
    "Count the number of records in the file."
   ]
  },
  {
   "cell_type": "code",
   "execution_count": 42,
   "metadata": {},
   "outputs": [
    {
     "data": {
      "text/plain": [
       "30520"
      ]
     },
     "execution_count": 42,
     "metadata": {},
     "output_type": "execute_result"
    }
   ],
   "source": [
    "file.count()"
   ]
  },
  {
   "cell_type": "markdown",
   "metadata": {},
   "source": [
    "Define a new RDD that removes the headers from the file. The headers are lines that begin with a star."
   ]
  },
  {
   "cell_type": "code",
   "execution_count": 5,
   "metadata": {},
   "outputs": [],
   "source": [
    "noHeaders = file.filter(lambda x: len(x)>0 and x[0]!='*')"
   ]
  },
  {
   "cell_type": "markdown",
   "metadata": {},
   "source": [
    "Look at the first 5 records of noHeaders"
   ]
  },
  {
   "cell_type": "code",
   "execution_count": 12,
   "metadata": {},
   "outputs": [
    {
     "data": {
      "text/plain": [
       "[u'1 \"24-HOUR MAN/EMMANUEL\"',\n",
       " u'2 \"3-D MAN/CHARLES CHAN\"',\n",
       " u'3 \"4-D MAN/MERCURIO\"',\n",
       " u'4 \"8-BALL/\"',\n",
       " u'5 \"A\"',\n",
       " u'6 \"A\\'YIN\"',\n",
       " u'7 \"ABBOTT, JACK\"',\n",
       " u'8 \"ABCISSA\"',\n",
       " u'9 \"ABEL\"',\n",
       " u'10 \"ABOMINATION/EMIL BLO\"',\n",
       " u'11 \"ABOMINATION | MUTANT\"',\n",
       " u'12 \"ABOMINATRIX\"',\n",
       " u'13 \"ABRAXAS\"',\n",
       " u'14 \"ADAM 3,031\"',\n",
       " u'15 \"ABSALOM\"',\n",
       " u'16 \"ABSORBING MAN/CARL C\"',\n",
       " u'17 \"ABSORBING MAN | MUTA\"',\n",
       " u'18 \"ACBA\"',\n",
       " u'19 \"ACHEBE, REVEREND DOC\"',\n",
       " u'20 \"ACHILLES\"']"
      ]
     },
     "execution_count": 12,
     "metadata": {},
     "output_type": "execute_result"
    }
   ],
   "source": [
    "noHeaders.take(20)"
   ]
  },
  {
   "cell_type": "markdown",
   "metadata": {},
   "source": [
    "Extract a pair from each line:  the leading integer and a string for the rest of the line"
   ]
  },
  {
   "cell_type": "code",
   "execution_count": 25,
   "metadata": {},
   "outputs": [],
   "source": [
    "paired = noHeaders.map(lambda l:  l.partition(' ')).filter(lambda t:  len(t)==3 and len(t[0])>0 and len(t[2])>0).map(lambda t: (int(t[0]), t[2]))"
   ]
  },
  {
   "cell_type": "code",
   "execution_count": 44,
   "metadata": {},
   "outputs": [
    {
     "data": {
      "text/plain": [
       "[(1, u'\"24-HOUR MAN/EMMANUEL\"'),\n",
       " (2, u'\"3-D MAN/CHARLES CHAN\"'),\n",
       " (3, u'\"4-D MAN/MERCURIO\"'),\n",
       " (4, u'\"8-BALL/\"'),\n",
       " (5, u'\"A\"'),\n",
       " (6, u'\"A\\'YIN\"'),\n",
       " (7, u'\"ABBOTT, JACK\"'),\n",
       " (8, u'\"ABCISSA\"'),\n",
       " (9, u'\"ABEL\"'),\n",
       " (10, u'\"ABOMINATION/EMIL BLO\"')]"
      ]
     },
     "execution_count": 44,
     "metadata": {},
     "output_type": "execute_result"
    }
   ],
   "source": [
    "paired.take(10)"
   ]
  },
  {
   "cell_type": "code",
   "execution_count": 45,
   "metadata": {},
   "outputs": [],
   "source": [
    "p = paired.collect()"
   ]
  },
  {
   "cell_type": "code",
   "execution_count": 48,
   "metadata": {},
   "outputs": [
    {
     "data": {
      "text/plain": [
       "(6192, u'17877 19306 13619')"
      ]
     },
     "execution_count": 48,
     "metadata": {},
     "output_type": "execute_result"
    }
   ],
   "source": [
    "p[30000]"
   ]
  },
  {
   "cell_type": "markdown",
   "metadata": {},
   "source": [
    "Filter relationships as they do not start with quotes, then split the integer list"
   ]
  },
  {
   "cell_type": "code",
   "execution_count": null,
   "metadata": {},
   "outputs": [],
   "source": []
  },
  {
   "cell_type": "code",
   "execution_count": 26,
   "metadata": {},
   "outputs": [],
   "source": [
    "scatteredRelationships = paired.filter(lambda (charId, text):  text[0]!='\"').map(lambda (charId, text): (charId, [int(x) for x in text.split(' ')]))"
   ]
  },
  {
   "cell_type": "markdown",
   "metadata": {},
   "source": [
    "Relationships for the same character id sometime spans more than a line in the file, so let's group them together"
   ]
  },
  {
   "cell_type": "code",
   "execution_count": 49,
   "metadata": {},
   "outputs": [
    {
     "data": {
      "text/plain": [
       "[(1, [6487]),\n",
       " (2, [6488, 6489, 6490, 6491, 6492, 6493, 6494, 6495, 6496]),\n",
       " (3, [6497, 6498, 6499, 6500, 6501, 6502, 6503, 6504, 6505]),\n",
       " (4, [6506, 6507, 6508]),\n",
       " (5, [6509, 6510, 6511]),\n",
       " (6, [6512, 6513, 6514, 6515]),\n",
       " (7, [6516]),\n",
       " (8, [6517, 6518]),\n",
       " (9, [6519, 6520]),\n",
       " (10,\n",
       "  [6521,\n",
       "   6522,\n",
       "   6523,\n",
       "   6524,\n",
       "   6525,\n",
       "   6526,\n",
       "   6527,\n",
       "   6528,\n",
       "   6529,\n",
       "   6530,\n",
       "   6531,\n",
       "   6532,\n",
       "   6533,\n",
       "   6534,\n",
       "   6535])]"
      ]
     },
     "execution_count": 49,
     "metadata": {},
     "output_type": "execute_result"
    }
   ],
   "source": [
    "scatteredRelationships.take(10)"
   ]
  },
  {
   "cell_type": "code",
   "execution_count": 27,
   "metadata": {},
   "outputs": [],
   "source": [
    "relationships = scatteredRelationships.reduceByKey(lambda pubList1, pubList2: pubList1 + pubList2)"
   ]
  },
  {
   "cell_type": "markdown",
   "metadata": {},
   "source": [
    "Filter non-relationships as they start with quotes ; remove the quotes"
   ]
  },
  {
   "cell_type": "code",
   "execution_count": 28,
   "metadata": {},
   "outputs": [],
   "source": [
    "nonRelationships = paired.filter(lambda (index, text):  text[0]=='\"').map(lambda (index, text):  (index, text[1:-1].strip()))"
   ]
  },
  {
   "cell_type": "markdown",
   "metadata": {},
   "source": [
    "Characters stop at a certain line (part of the initial header ; we hardcode it here)"
   ]
  },
  {
   "cell_type": "code",
   "execution_count": 29,
   "metadata": {},
   "outputs": [],
   "source": [
    "characters = nonRelationships.filter(lambda (charId, name): charId<=6486)"
   ]
  },
  {
   "cell_type": "markdown",
   "metadata": {},
   "source": [
    "Publications starts after the characters"
   ]
  },
  {
   "cell_type": "code",
   "execution_count": 30,
   "metadata": {},
   "outputs": [],
   "source": [
    "publications = nonRelationships.filter(lambda (charId, name): charId>6486)"
   ]
  },
  {
   "cell_type": "markdown",
   "metadata": {},
   "source": [
    "The following cells begin to use SparkSQL. \n",
    "\n",
    "Spark SQL works with Data Frames which are a kind of “structured” RDD or an “RDD with schema”.\n",
    "\n",
    "The integration between the two works by creating a RDD of Row (a type from pyspark.sql) and then creating a Data Frame from it.\n",
    "\n",
    "The Data Frames can then be registered as views.  It is those views we’ll query using Spark SQL."
   ]
  },
  {
   "cell_type": "code",
   "execution_count": 31,
   "metadata": {},
   "outputs": [],
   "source": [
    "from pyspark.sql import Row"
   ]
  },
  {
   "cell_type": "markdown",
   "metadata": {},
   "source": [
    "Let's create dataframes out of the RDDs and register them as temporary views for SQL to use\n"
   ]
  },
  {
   "cell_type": "code",
   "execution_count": 32,
   "metadata": {},
   "outputs": [],
   "source": [
    "#  Relationships has a list as a component, let's flat that\n",
    "flatRelationships = relationships.flatMap(lambda (charId, pubList):  [(charId, pubId) for pubId in pubList])"
   ]
  },
  {
   "cell_type": "code",
   "execution_count": 33,
   "metadata": {},
   "outputs": [],
   "source": [
    "#  Let's map the relationships to an RDD of rows in order to create a data frame out of it\n",
    "relationshipsDf = spark.createDataFrame(flatRelationships.map(lambda t: Row(charId=t[0], pubId=t[1])))\n"
   ]
  },
  {
   "cell_type": "code",
   "execution_count": 34,
   "metadata": {},
   "outputs": [],
   "source": [
    "#  Register relationships as a temporary view\n",
    "relationshipsDf.createOrReplaceTempView(\"relationships\")\n"
   ]
  },
  {
   "cell_type": "code",
   "execution_count": 52,
   "metadata": {},
   "outputs": [
    {
     "data": {
      "text/plain": [
       "[Row(count(1)=96662)]"
      ]
     },
     "execution_count": 52,
     "metadata": {},
     "output_type": "execute_result"
    }
   ],
   "source": [
    "spark.sql(\"select count(*) from relationships\").collect()"
   ]
  },
  {
   "cell_type": "code",
   "execution_count": 53,
   "metadata": {},
   "outputs": [],
   "source": [
    "df = spark.sql(\"select count(*) from relationships\")"
   ]
  },
  {
   "cell_type": "code",
   "execution_count": 54,
   "metadata": {},
   "outputs": [
    {
     "data": {
      "text/plain": [
       "DataFrame[count(1): bigint]"
      ]
     },
     "execution_count": 54,
     "metadata": {},
     "output_type": "execute_result"
    }
   ],
   "source": [
    "df"
   ]
  },
  {
   "cell_type": "code",
   "execution_count": 55,
   "metadata": {},
   "outputs": [],
   "source": [
    "df_python = spark.sql(\"select count(*) from relationships\").collect()"
   ]
  },
  {
   "cell_type": "code",
   "execution_count": 56,
   "metadata": {},
   "outputs": [
    {
     "data": {
      "text/plain": [
       "[Row(count(1)=96662)]"
      ]
     },
     "execution_count": 56,
     "metadata": {},
     "output_type": "execute_result"
    }
   ],
   "source": [
    "df_python"
   ]
  },
  {
   "cell_type": "code",
   "execution_count": 50,
   "metadata": {},
   "outputs": [
    {
     "data": {
      "text/plain": [
       "96662"
      ]
     },
     "execution_count": 50,
     "metadata": {},
     "output_type": "execute_result"
    }
   ],
   "source": [
    "relationshipsDf.count()"
   ]
  },
  {
   "cell_type": "code",
   "execution_count": 58,
   "metadata": {},
   "outputs": [
    {
     "name": "stdout",
     "output_type": "stream",
     "text": [
      "+------+-----+\n",
      "|charId|pubId|\n",
      "+------+-----+\n",
      "|     2| 6488|\n",
      "|     2| 6489|\n",
      "|     2| 6490|\n",
      "|     2| 6491|\n",
      "|     2| 6492|\n",
      "|     2| 6493|\n",
      "|     2| 6494|\n",
      "|     2| 6495|\n",
      "|     2| 6496|\n",
      "|     4| 6506|\n",
      "+------+-----+\n",
      "\n"
     ]
    }
   ],
   "source": [
    "spark.sql(\"select * from relationships limit 10\").show()"
   ]
  },
  {
   "cell_type": "code",
   "execution_count": 40,
   "metadata": {},
   "outputs": [],
   "source": [
    "r2 = spark.read.csv(\"s3://bigdatateaching/marvel/relationship\",header=True)"
   ]
  },
  {
   "cell_type": "code",
   "execution_count": 41,
   "metadata": {},
   "outputs": [
    {
     "name": "stdout",
     "output_type": "stream",
     "text": [
      "+------+-----+\n",
      "|charId|pubId|\n",
      "+------+-----+\n",
      "|     2| 6488|\n",
      "|     2| 6489|\n",
      "|     2| 6490|\n",
      "|     2| 6491|\n",
      "|     2| 6492|\n",
      "|     2| 6493|\n",
      "|     2| 6494|\n",
      "|     2| 6495|\n",
      "|     2| 6496|\n",
      "|     4| 6506|\n",
      "|     4| 6507|\n",
      "|     4| 6508|\n",
      "|     6| 6512|\n",
      "|     6| 6513|\n",
      "|     6| 6514|\n",
      "|     6| 6515|\n",
      "|     8| 6517|\n",
      "|     8| 6518|\n",
      "|    10| 6521|\n",
      "|    10| 6522|\n",
      "+------+-----+\n",
      "only showing top 20 rows\n",
      "\n"
     ]
    }
   ],
   "source": [
    "r2.show()"
   ]
  },
  {
   "cell_type": "code",
   "execution_count": 54,
   "metadata": {},
   "outputs": [],
   "source": [
    "#  Let's do the same for characters\n",
    "charactersDf = spark.createDataFrame(characters.map(lambda t:  Row(charId=t[0], name=t[1])))\n",
    "charactersDf.createOrReplaceTempView(\"characters\")\n"
   ]
  },
  {
   "cell_type": "code",
   "execution_count": 55,
   "metadata": {},
   "outputs": [],
   "source": [
    "#  and for publications\n",
    "publicationsDf = spark.createDataFrame(publications.map(lambda t:  Row(pubId=t[0], name=t[1])))\n",
    "publicationsDf.createOrReplaceTempView(\"publications\")"
   ]
  },
  {
   "cell_type": "code",
   "execution_count": 56,
   "metadata": {},
   "outputs": [
    {
     "name": "stdout",
     "output_type": "stream",
     "text": [
      "+------+-----+\n",
      "|charId|pubId|\n",
      "+------+-----+\n",
      "|     2| 6488|\n",
      "|     2| 6489|\n",
      "|     2| 6490|\n",
      "|     2| 6491|\n",
      "|     2| 6492|\n",
      "|     2| 6493|\n",
      "|     2| 6494|\n",
      "|     2| 6495|\n",
      "|     2| 6496|\n",
      "|     4| 6506|\n",
      "+------+-----+\n",
      "only showing top 10 rows\n",
      "\n"
     ]
    }
   ],
   "source": [
    "relationshipsDf.show(10)"
   ]
  },
  {
   "cell_type": "markdown",
   "metadata": {},
   "source": [
    "The following cell is the standard way of running a SQL query on Spark. This query ranks Marvel characters in duo in order of join-appearances in publications. "
   ]
  },
  {
   "cell_type": "code",
   "execution_count": 40,
   "metadata": {},
   "outputs": [],
   "source": [
    "df1 = spark.sql(\"\"\"SELECT c1.name AS name1, c2.name AS name2, sub.charId1, sub.charId2, sub.pubCount\n",
    "FROM\n",
    "(\n",
    "  SELECT r1.charId AS charId1, r2.charId AS charId2, COUNT(r1.pubId, r2.pubId) AS pubCount\n",
    "  FROM relationships AS r1\n",
    "  CROSS JOIN relationships AS r2\n",
    "  WHERE r1.charId < r2.charId\n",
    "  AND r1.pubId=r2.pubId\n",
    "  GROUP BY r1.charId, r2.charId\n",
    ") AS sub\n",
    "INNER JOIN characters c1 ON c1.charId=sub.charId1\n",
    "INNER JOIN characters c2 ON c2.charId=sub.charId2\n",
    "ORDER BY sub.pubCount DESC\n",
    "LIMIT 10\"\"\").cache()\n"
   ]
  },
  {
   "cell_type": "code",
   "execution_count": 42,
   "metadata": {},
   "outputs": [
    {
     "data": {
      "text/plain": [
       "[Row(name1=u'HUMAN TORCH/JOHNNY S', name2=u'THING/BENJAMIN J. GR', charId1=2557, charId2=5716, pubCount=744),\n",
       " Row(name1=u'HUMAN TORCH/JOHNNY S', name2=u'MR. FANTASTIC/REED R', charId1=2557, charId2=3805, pubCount=713),\n",
       " Row(name1=u'MR. FANTASTIC/REED R', name2=u'THING/BENJAMIN J. GR', charId1=3805, charId2=5716, pubCount=708),\n",
       " Row(name1=u'INVISIBLE WOMAN/SUE', name2=u'MR. FANTASTIC/REED R', charId1=2650, charId2=3805, pubCount=701),\n",
       " Row(name1=u'HUMAN TORCH/JOHNNY S', name2=u'INVISIBLE WOMAN/SUE', charId1=2557, charId2=2650, pubCount=694),\n",
       " Row(name1=u'INVISIBLE WOMAN/SUE', name2=u'THING/BENJAMIN J. GR', charId1=2650, charId2=5716, pubCount=668),\n",
       " Row(name1=u'SPIDER-MAN/PETER PAR', name2=u'WATSON-PARKER, MARY', charId1=5306, charId2=6166, pubCount=616),\n",
       " Row(name1=u'JAMESON, J. JONAH', name2=u'SPIDER-MAN/PETER PAR', charId1=2959, charId2=5306, pubCount=526),\n",
       " Row(name1=u'CAPTAIN AMERICA', name2=u'IRON MAN/TONY STARK', charId1=859, charId2=2664, pubCount=446),\n",
       " Row(name1=u'SCARLET WITCH/WANDA', name2=u'VISION', charId1=4898, charId2=6066, pubCount=422)]"
      ]
     },
     "execution_count": 42,
     "metadata": {},
     "output_type": "execute_result"
    }
   ],
   "source": [
    "df1.take(10)"
   ]
  },
  {
   "cell_type": "code",
   "execution_count": 43,
   "metadata": {},
   "outputs": [],
   "source": [
    "df2 = spark.sql(\"\"\"\n",
    "SELECT c1.name AS name1, c2.name AS name2, c3.name AS name3, sub.charId1, sub.charId2, sub.charId3, sub.pubCount\n",
    "FROM\n",
    "(\n",
    "  SELECT r1.charId AS charId1, r2.charId AS charId2, r3.charId AS charId3, COUNT(r1.pubId, r2.pubId, r3.pubId) AS pubCount\n",
    "  FROM relationships AS r1\n",
    "  CROSS JOIN relationships AS r2\n",
    "  CROSS JOIN relationships AS r3\n",
    "  WHERE r1.charId < r2.charId\n",
    "  AND r2.charId < r3.charId\n",
    "  AND r1.pubId=r2.pubId\n",
    "  AND r2.pubId=r3.pubId\n",
    "  GROUP BY r1.charId, r2.charId, r3.charId\n",
    ") AS sub\n",
    "INNER JOIN characters c1 ON c1.charId=sub.charId1\n",
    "INNER JOIN characters c2 ON c2.charId=sub.charId2\n",
    "INNER JOIN characters c3 ON c3.charId=sub.charId3\n",
    "ORDER BY sub.pubCount DESC\n",
    "LIMIT 10\n",
    "\"\"\").cache()\n"
   ]
  },
  {
   "cell_type": "code",
   "execution_count": 44,
   "metadata": {},
   "outputs": [
    {
     "name": "stdout",
     "output_type": "stream",
     "text": [
      "+--------------------+--------------------+--------------------+-------+-------+-------+--------+\n",
      "|               name1|               name2|               name3|charId1|charId2|charId3|pubCount|\n",
      "+--------------------+--------------------+--------------------+-------+-------+-------+--------+\n",
      "|HUMAN TORCH/JOHNNY S|MR. FANTASTIC/REED R|THING/BENJAMIN J. GR|   2557|   3805|   5716|     646|\n",
      "|HUMAN TORCH/JOHNNY S| INVISIBLE WOMAN/SUE|MR. FANTASTIC/REED R|   2557|   2650|   3805|     640|\n",
      "|HUMAN TORCH/JOHNNY S| INVISIBLE WOMAN/SUE|THING/BENJAMIN J. GR|   2557|   2650|   5716|     632|\n",
      "| INVISIBLE WOMAN/SUE|MR. FANTASTIC/REED R|THING/BENJAMIN J. GR|   2650|   3805|   5716|     612|\n",
      "|COLOSSUS II/PETER RA|STORM/ORORO MUNROE S|     WOLVERINE/LOGAN|   1127|   5467|   6306|     297|\n",
      "|     CAPTAIN AMERICA| SCARLET WITCH/WANDA|              VISION|    859|   4898|   6066|     286|\n",
      "|CYCLOPS/SCOTT SUMMER| ICEMAN/ROBERT BOBBY|MARVEL GIRL/JEAN GRE|   1289|   2603|   3495|     278|\n",
      "|BEAST/HENRY &HANK& P|CYCLOPS/SCOTT SUMMER|MARVEL GIRL/JEAN GRE|    403|   1289|   3495|     277|\n",
      "|     CAPTAIN AMERICA| IRON MAN/TONY STARK|THOR/DR. DONALD BLAK|    859|   2664|   5736|     273|\n",
      "|ANGEL/WARREN KENNETH|BEAST/HENRY &HANK& P| ICEMAN/ROBERT BOBBY|    133|    403|   2603|     272|\n",
      "+--------------------+--------------------+--------------------+-------+-------+-------+--------+\n",
      "\n"
     ]
    }
   ],
   "source": [
    "df2.show(10)"
   ]
  },
  {
   "cell_type": "code",
   "execution_count": null,
   "metadata": {},
   "outputs": [],
   "source": [
    "sc.stop()"
   ]
  },
  {
   "cell_type": "markdown",
   "metadata": {},
   "source": [
    "This lab was adapted from [https://vincentlauzon.com/2018/01/24/azure-databricks-spark-sql-data-frames/](https://vincentlauzon.com/2018/01/24/azure-databricks-spark-sql-data-frames/)"
   ]
  },
  {
   "cell_type": "markdown",
   "metadata": {},
   "source": [
    "Saving a DataFrame to a csv\n",
    "```\n",
    "publicationsDf.write\\\n",
    "    .format(\"com.databricks.spark.csv\")\\\n",
    "    .option(\"header\", \"true\")\\\n",
    "    .save(\"s3://bigdatateaching/marvel/publication\")\n",
    "```"
   ]
  }
 ],
 "metadata": {
  "kernelspec": {
   "display_name": "Python 2",
   "language": "python",
   "name": "python2"
  },
  "language_info": {
   "codemirror_mode": {
    "name": "ipython",
    "version": 2
   },
   "file_extension": ".py",
   "mimetype": "text/x-python",
   "name": "python",
   "nbconvert_exporter": "python",
   "pygments_lexer": "ipython2",
   "version": "2.7.13"
  }
 },
 "nbformat": 4,
 "nbformat_minor": 2
}
